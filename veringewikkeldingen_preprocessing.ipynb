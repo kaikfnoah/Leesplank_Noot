{
 "cells": [
  {
   "cell_type": "code",
   "execution_count": null,
   "id": "4e5e89f3-fe74-4a9e-b526-0d856ed74a96",
   "metadata": {},
   "outputs": [],
   "source": [
    "# !pip install --upgrade jupyterlab_widgets\n",
    "# !jupyter lab build"
   ]
  },
  {
   "cell_type": "code",
   "execution_count": null,
   "id": "a7b511c3-efa5-4399-b577-b2997f76a5a2",
   "metadata": {},
   "outputs": [],
   "source": [
    "from dotenv import load_dotenv\n",
    "import os\n",
    "from datasets import load_dataset, Dataset\n",
    "import pandas as pd"
   ]
  },
  {
   "cell_type": "code",
   "execution_count": null,
   "id": "fd1f5d04",
   "metadata": {},
   "outputs": [],
   "source": [
    "# Load environment variables (API keys) from .env file\n",
    "load_dotenv()\n",
    "HUGGINFACE_TOKEN = os.getenv(\"HUGGINFACE_TOKEN\")"
   ]
  },
  {
   "cell_type": "code",
   "execution_count": 78,
   "id": "6981ab24-153e-427d-851f-fbf2962fe11a",
   "metadata": {},
   "outputs": [],
   "source": [
    "## Load the dataset and shuffle it\n",
    "df = pd.read_parquet(\"hf://datasets/UWV/veringewikkelderingen/train-00000-of-00001.parquet\")\n",
    "\n",
    "# Remove duplicates and reset index\n",
    "df = df.drop_duplicates().reset_index(drop=True)"
   ]
  },
  {
   "cell_type": "code",
   "execution_count": 79,
   "id": "325ed804-78a1-446c-bdd8-62f0c5d62f41",
   "metadata": {},
   "outputs": [
    {
     "name": "stdout",
     "output_type": "stream",
     "text": [
      "(1490, 8)\n",
      "Index(['original', 'simplified', 'jargon', 'official', 'archaïsche_taal',\n",
      "       'technical', 'academic', 'poetic'],\n",
      "      dtype='object')\n"
     ]
    }
   ],
   "source": [
    "print(df.shape)\n",
    "print(df.columns)"
   ]
  },
  {
   "cell_type": "code",
   "execution_count": 91,
   "id": "0995ca67-db06-405f-88b4-97dab7d778bb",
   "metadata": {},
   "outputs": [],
   "source": [
    "#df = df.drop(columns=['original'])\n",
    "reshape_df = df.melt(id_vars='simplified',\n",
    "                     value_vars=['jargon', 'official', \n",
    "                                 'archaïsche_taal','technical', 'academic', 'poetic'],\n",
    "                     var_name='output_version', value_name='output')\n",
    "                      "
   ]
  },
  {
   "cell_type": "code",
   "execution_count": 92,
   "id": "0bd52f88-bdae-4e82-8de6-dd9aaaa008ac",
   "metadata": {},
   "outputs": [
    {
     "name": "stdout",
     "output_type": "stream",
     "text": [
      "(8940, 3)\n",
      "Index(['simplified', 'output_version', 'output'], dtype='object')\n"
     ]
    }
   ],
   "source": [
    "print(reshape_df.shape)\n",
    "print(reshape_df.columns)"
   ]
  },
  {
   "cell_type": "code",
   "execution_count": 93,
   "id": "0cd85b85-de07-4249-818a-b75fbb5a49be",
   "metadata": {},
   "outputs": [
    {
     "name": "stdout",
     "output_type": "stream",
     "text": [
      "                                                                                                                                                                                                                                                                                                                                                                                                                                                                           simplified  \\\n",
      "0                                                                                                                                                                                                                              Er was een grote muur van gestapelde stenen. Deze muur was wel 3 meter en 24 centimeter hoog. Maar de rivier de Seine ging dwars door deze muur heen. Bij het park dat Monceau heet, was er geen muur. Daar was een diepe sloot in plaats van de muur.   \n",
      "1  In de tijd dat de muur rond Parijs werd gebouwd, was er een groot gebied eromheen. Eerst was dit ongeveer 3370 hectare. Maar toen een klein dorp genaamd Austerlitz bij Parijs kwam, dat nu bekend staat als de wijk Quartier de la Gare, werd het gebied iets groter: 3402 hectare. De muur liep rond wat we nu de eerste elf wijken van Parijs noemen. Toen de muur net klaar was, besloeg hij de grootte van wat nu de eerste zes wijken zijn. Dat waren ongeveer 1103 hectare.   \n",
      "2                                                                                                                                                                                                                                                             De muur rond Parijs was toen hij gebouwd werd ongeveer 24 kilometer lang. Er waren 55 ingangen, die \"barrières\" werden genoemd. Als je goed kijkt naar de straten van Parijs, kun je zien waar deze muur vroeger stond.   \n",
      "3                                                                                                                                 Er waren 55 plekken waar je door kon gaan en daar stonden speciale belastinggebouwen. Die gebouwen worden \"propylaeën\" genoemd. Claude Nicolas Ledoux, een bekende architect, ontwierp deze gebouwen in een oude stijl die neoklassiek wordt genoemd. Van de 55 gebouwen zijn de meeste kapot gemaakt. Er zijn nog maar vier van die gebouwen over.   \n",
      "4                                                                                                                                                                                                                                                                                                                     Egeldonk was een groot flatgebouw in Amsterdam-Zuidoost. De naam komt van een boerderij die vroeger in Zundert stond, een plaats in de provincie Noord-Brabant.   \n",
      "\n",
      "  output_version  \\\n",
      "0         jargon   \n",
      "1         jargon   \n",
      "2         jargon   \n",
      "3         jargon   \n",
      "4         jargon   \n",
      "\n",
      "                                                                                                                                                                                                                                                                                                                                                                                                                                                                                                                                                                           output  \n",
      "0                                                                                                                                                                                                                        De beveiligingsinfrastructuur presenteerde een geavanceerde gestapeld-steen constructie van circa 3,24 meter in hoogte, echter, de hydrografische doorstroming van de Seine heeft een breche gevormd. Aangrenzend aan het Parc Monceau is de fortificatie geëvolueerd naar een entrenched defensieve gracht ter substitutie van de oorspronkelijke muur.  \n",
      "1  Gedurende de constructiefase van de Parijse enceinte was het aangrenzende controle-domein initieel vastgelegd op circa 3370 hectare. Post integratie van de agglomeratie Austerlitz, in het hedendaagse bekend als Quartier de la Gare, escaleerde het domein tot een omvang van 3402 hectare. De periferie van de enceinte omsloot wat heden ten dage correspondeert met de eerste elf arrondissementen van Parijs. Na voltooiing van het constructieproject besloeg de enceinte een gebied gelijk aan de huidige eerste zes arrondissementen, geschat op circa 1103 hectare.  \n",
      "2                                                                                                                                                                             De perimeterdefensie rond de Franse metropool Parijs had ten tijde van constructie een spanwijdte van circa 24 kilometer. Het toegangscontrolesysteem bestond uit 55 geëngineerde toegangspunten, in vaktermen aangeduid als 'barrières'. Hedendaagse urbanistische analysetechnieken kunnen de precieze locatie van de voormalige muurstructuur identificeren binnen het grid van Parijse straten.  \n",
      "3                                                                                                                                        Het betrof 55 transit points voor fiscale controle waarbij de constructies, bekend als 'propylaeen', dienden als douanekantoren. Deze structurele entiteiten, gecreëerd door de architect Claude Nicolas Ledoux, zijn representaties van neoklassieke architectonische vormgeving. In tegenstelling tot de initiële hoeveelheid, zijn de overblijvende constructies gereduceerd tot een kwartet, ten gevolge van deconstructieve acties.  \n",
      "4                                                                                                                                                                                                                             Egeldonk betrof een omvangrijk multifunctioneel wooncomplex gesitueerd in Amsterdam-Zuidoost. Deze benaming refereert aan een voormalige agrarische exploitatie, beter bekend als een boerderij, welke voorheen gelokaliseerd was in het territorium van Zundert, een gemeente behorend tot de Nederlandse provinciale structuur van Noord-Brabant.  \n"
     ]
    }
   ],
   "source": [
    "print(reshape_df.head())"
   ]
  },
  {
   "cell_type": "code",
   "execution_count": 94,
   "id": "cda0c380-25c7-4665-92d6-564ec42ec4f4",
   "metadata": {},
   "outputs": [],
   "source": [
    "# simplified = result en toevoegen [tag] ervoor\n",
    "reshape_df['simplified'] = '[' + reshape_df['output_version'] + '] ' + reshape_df['simplified']\n",
    "reshape_df['output'] = '[S2S]' + reshape_df['output']"
   ]
  },
  {
   "cell_type": "code",
   "execution_count": 96,
   "id": "4df01227-68c4-4c3f-ac9c-66b0e8c12cde",
   "metadata": {},
   "outputs": [],
   "source": [
    "reshape_df = reshape_df.drop(columns=['output_version'])"
   ]
  },
  {
   "cell_type": "code",
   "execution_count": 101,
   "id": "19ec0a72-cc28-426a-bdf7-074a80afaeb8",
   "metadata": {},
   "outputs": [],
   "source": [
    "reshape_df.columns = ['result' , 'prompt']"
   ]
  },
  {
   "cell_type": "code",
   "execution_count": 102,
   "id": "2229b596-d6c2-431b-8c59-64238201429a",
   "metadata": {},
   "outputs": [
    {
     "name": "stdout",
     "output_type": "stream",
     "text": [
      "                                                                                                                                                                                                                                                                                                                                                                                                                                                                                        result  \\\n",
      "0                                                                                                                                                                                                                              [jargon] Er was een grote muur van gestapelde stenen. Deze muur was wel 3 meter en 24 centimeter hoog. Maar de rivier de Seine ging dwars door deze muur heen. Bij het park dat Monceau heet, was er geen muur. Daar was een diepe sloot in plaats van de muur.   \n",
      "1  [jargon] In de tijd dat de muur rond Parijs werd gebouwd, was er een groot gebied eromheen. Eerst was dit ongeveer 3370 hectare. Maar toen een klein dorp genaamd Austerlitz bij Parijs kwam, dat nu bekend staat als de wijk Quartier de la Gare, werd het gebied iets groter: 3402 hectare. De muur liep rond wat we nu de eerste elf wijken van Parijs noemen. Toen de muur net klaar was, besloeg hij de grootte van wat nu de eerste zes wijken zijn. Dat waren ongeveer 1103 hectare.   \n",
      "2                                                                                                                                                                                                                                                             [jargon] De muur rond Parijs was toen hij gebouwd werd ongeveer 24 kilometer lang. Er waren 55 ingangen, die \"barrières\" werden genoemd. Als je goed kijkt naar de straten van Parijs, kun je zien waar deze muur vroeger stond.   \n",
      "3                                                                                                                                 [jargon] Er waren 55 plekken waar je door kon gaan en daar stonden speciale belastinggebouwen. Die gebouwen worden \"propylaeën\" genoemd. Claude Nicolas Ledoux, een bekende architect, ontwierp deze gebouwen in een oude stijl die neoklassiek wordt genoemd. Van de 55 gebouwen zijn de meeste kapot gemaakt. Er zijn nog maar vier van die gebouwen over.   \n",
      "4                                                                                                                                                                                                                                                                                                                     [jargon] Egeldonk was een groot flatgebouw in Amsterdam-Zuidoost. De naam komt van een boerderij die vroeger in Zundert stond, een plaats in de provincie Noord-Brabant.   \n",
      "\n",
      "                                                                                                                                                                                                                                                                                                                                                                                                                                                                                                                                                                                prompt  \n",
      "0                                                                                                                                                                                                                        [S2S]De beveiligingsinfrastructuur presenteerde een geavanceerde gestapeld-steen constructie van circa 3,24 meter in hoogte, echter, de hydrografische doorstroming van de Seine heeft een breche gevormd. Aangrenzend aan het Parc Monceau is de fortificatie geëvolueerd naar een entrenched defensieve gracht ter substitutie van de oorspronkelijke muur.  \n",
      "1  [S2S]Gedurende de constructiefase van de Parijse enceinte was het aangrenzende controle-domein initieel vastgelegd op circa 3370 hectare. Post integratie van de agglomeratie Austerlitz, in het hedendaagse bekend als Quartier de la Gare, escaleerde het domein tot een omvang van 3402 hectare. De periferie van de enceinte omsloot wat heden ten dage correspondeert met de eerste elf arrondissementen van Parijs. Na voltooiing van het constructieproject besloeg de enceinte een gebied gelijk aan de huidige eerste zes arrondissementen, geschat op circa 1103 hectare.  \n",
      "2                                                                                                                                                                             [S2S]De perimeterdefensie rond de Franse metropool Parijs had ten tijde van constructie een spanwijdte van circa 24 kilometer. Het toegangscontrolesysteem bestond uit 55 geëngineerde toegangspunten, in vaktermen aangeduid als 'barrières'. Hedendaagse urbanistische analysetechnieken kunnen de precieze locatie van de voormalige muurstructuur identificeren binnen het grid van Parijse straten.  \n",
      "3                                                                                                                                        [S2S]Het betrof 55 transit points voor fiscale controle waarbij de constructies, bekend als 'propylaeen', dienden als douanekantoren. Deze structurele entiteiten, gecreëerd door de architect Claude Nicolas Ledoux, zijn representaties van neoklassieke architectonische vormgeving. In tegenstelling tot de initiële hoeveelheid, zijn de overblijvende constructies gereduceerd tot een kwartet, ten gevolge van deconstructieve acties.  \n",
      "4                                                                                                                                                                                                                             [S2S]Egeldonk betrof een omvangrijk multifunctioneel wooncomplex gesitueerd in Amsterdam-Zuidoost. Deze benaming refereert aan een voormalige agrarische exploitatie, beter bekend als een boerderij, welke voorheen gelokaliseerd was in het territorium van Zundert, een gemeente behorend tot de Nederlandse provinciale structuur van Noord-Brabant.  \n"
     ]
    }
   ],
   "source": [
    "print(reshape_df.head())"
   ]
  },
  {
   "cell_type": "code",
   "execution_count": 103,
   "id": "6371a25e-1721-41b0-ae55-fba6b9995eb7",
   "metadata": {},
   "outputs": [
    {
     "name": "stdout",
     "output_type": "stream",
     "text": [
      "The token has not been saved to the git credentials helper. Pass `add_to_git_credential=True` in this function directly or `--add-to-git-credential` if using via `huggingface-cli` if you want to set the git credential as well.\n",
      "Token is valid (permission: fineGrained).\n",
      "Your token has been saved to C:\\Users\\ElinedeKinkelder\\.cache\\huggingface\\token\n",
      "Login successful\n"
     ]
    },
    {
     "data": {
      "application/vnd.jupyter.widget-view+json": {
       "model_id": "1641ec49131643bb8d2d5717764cf8fa",
       "version_major": 2,
       "version_minor": 0
      },
      "text/plain": [
       "Uploading the dataset shards:   0%|          | 0/1 [00:00<?, ?it/s]"
      ]
     },
     "metadata": {},
     "output_type": "display_data"
    },
    {
     "data": {
      "application/vnd.jupyter.widget-view+json": {
       "model_id": "5ec7066521e5450197ad3d8cd8a3bf20",
       "version_major": 2,
       "version_minor": 0
      },
      "text/plain": [
       "Creating parquet from Arrow format:   0%|          | 0/9 [00:00<?, ?ba/s]"
      ]
     },
     "metadata": {},
     "output_type": "display_data"
    },
    {
     "data": {
      "text/plain": [
       "CommitInfo(commit_url='https://huggingface.co/datasets/UWV/veringewikkelderingen_preprocessed/commit/4499c369b353590d3ea86f03fc774526dc3a78cd', commit_message='Upload dataset', commit_description='', oid='4499c369b353590d3ea86f03fc774526dc3a78cd', pr_url=None, repo_url=RepoUrl('https://huggingface.co/datasets/UWV/veringewikkelderingen_preprocessed', endpoint='https://huggingface.co', repo_type='dataset', repo_id='UWV/veringewikkelderingen_preprocessed'), pr_revision=None, pr_num=None)"
      ]
     },
     "execution_count": 103,
     "metadata": {},
     "output_type": "execute_result"
    }
   ],
   "source": [
    "ds = Dataset.from_pandas(reshape_df)\n",
    "\n",
    "from huggingface_hub import login\n",
    "login(HUGGINGFACE_TOKEN\n",
    "\n",
    "# Push the dataset to Hugging Face Hub\n",
    "ds.push_to_hub(\"UWV/veringewikkelderingen_preprocessed\")"
   ]
  },
  {
   "cell_type": "code",
   "execution_count": null,
   "id": "2b9d54ed-c2a9-4d95-9c21-cbb610af95d0",
   "metadata": {},
   "outputs": [],
   "source": []
  }
 ],
 "metadata": {
  "kernelspec": {
   "display_name": "Python 3 (ipykernel)",
   "language": "python",
   "name": "python3"
  },
  "language_info": {
   "codemirror_mode": {
    "name": "ipython",
    "version": 3
   },
   "file_extension": ".py",
   "mimetype": "text/x-python",
   "name": "python",
   "nbconvert_exporter": "python",
   "pygments_lexer": "ipython3",
   "version": "3.11.7"
  }
 },
 "nbformat": 4,
 "nbformat_minor": 5
}
