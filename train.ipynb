{
 "cells": [
  {
   "cell_type": "code",
   "execution_count": null,
   "id": "9c297440-50c2-4f63-b422-703f2bde98be",
   "metadata": {},
   "outputs": [],
   "source": [
    "# !pip install --upgrade pip\n",
    "# !pip install sentencepiece\n",
    "# !pip install polars\n",
    "# !pip install transformers[torch]\n",
    "# !pip install \"accelerate>=0.26.0\"\n",
    "# !pip install python-dotenv\n",
    "# !pip install datasets\n",
    "# !pip install protobuf\n"
   ]
  },
  {
   "cell_type": "code",
   "execution_count": 6,
   "id": "6f7353b6-912c-4107-973f-f8a109e33807",
   "metadata": {},
   "outputs": [
    {
     "name": "stderr",
     "output_type": "stream",
     "text": [
      "/home/vscode/.local/lib/python3.12/site-packages/tqdm/auto.py:21: TqdmWarning: IProgress not found. Please update jupyter and ipywidgets. See https://ipywidgets.readthedocs.io/en/stable/user_install.html\n",
      "  from .autonotebook import tqdm as notebook_tqdm\n"
     ]
    }
   ],
   "source": [
    "import polars as pl\n",
    "import torch\n",
    "from transformers import (AutoTokenizer,\n",
    "                          AutoModelForSeq2SeqLM,\n",
    "                          Seq2SeqTrainer,\n",
    "                          Seq2SeqTrainingArguments,\n",
    "                          DataCollatorForSeq2Seq)\n",
    "from datasets import load_dataset, Dataset, DatasetDict\n",
    "import sentencepiece\n",
    "import accelerate\n",
    "from huggingface_hub import login"
   ]
  },
  {
   "cell_type": "code",
   "execution_count": null,
   "id": "4c42cdfe-e0b3-4c8a-9225-c2e63bdaa20c",
   "metadata": {},
   "outputs": [],
   "source": [
    "# Load environment variables (API keys) from .env file\n",
    "import os\n",
    "from dotenv import load_dotenv\n",
    "load_dotenv()\n",
    "\n",
    "HUGGINGFACE_TOKEN = os.getenv(\"HUGGINGFACE_TOKEN\")"
   ]
  },
  {
   "cell_type": "code",
   "execution_count": 12,
   "id": "666d621f-e0e4-4304-b821-8ed7026d90a0",
   "metadata": {},
   "outputs": [
    {
     "name": "stderr",
     "output_type": "stream",
     "text": [
      "/home/vscode/.local/lib/python3.12/site-packages/transformers/convert_slow_tokenizer.py:561: UserWarning: The sentencepiece tokenizer that you are converting to a fast tokenizer uses the byte fallback option which is not implemented in the fast tokenizers. In practice this means that the fast version of the tokenizer can produce unknown tokens whereas the sentencepiece version would have converted these unknown tokens into a sequence of byte tokens matching the original piece of text.\n",
      "  warnings.warn(\n"
     ]
    }
   ],
   "source": [
    "# Load the tokenizer and model\n",
    "tokenizer = AutoTokenizer.from_pretrained(\"BramVanroy/ul2-small-dutch-simplification-mai-2023\", legacy=False)\n",
    "model = AutoModelForSeq2SeqLM.from_pretrained(\"BramVanroy/ul2-small-dutch-simplification-mai-2023\")"
   ]
  },
  {
   "cell_type": "code",
   "execution_count": null,
   "id": "be5e409b-eafd-49b9-b3a0-5aafa480bba3",
   "metadata": {},
   "outputs": [],
   "source": [
    "df = pl.read_parquet('hf://datasets/UWV/Leesplank_NL_wikipedia_simplifications_preprocessed/data/train-*.parquet')\n",
    "# print(df.columns)\n",
    "ds = Dataset.from_pandas(df.to_pandas())"
   ]
  },
  {
   "cell_type": "code",
   "execution_count": null,
   "id": "461b152a-0ee4-4d90-b039-60c9f7e76ba2",
   "metadata": {},
   "outputs": [],
   "source": [
    "# Check if you have a GPU, otherwise default to CPU\n",
    "if torch.backends.mps.is_available():  # Check for AMD ROCm GPU\n",
    "    device = torch.device(\"mps\")\n",
    "    print(\"mps\")\n",
    "else:\n",
    "    device = torch.device(\"cpu\")\n",
    "    print(\"cpu\")\n",
    "model.to(device)\n",
    "\n",
    "\n",
    "def tokenize_function(examples):\n",
    "    return tokenizer(examples[\"prompt\"], text_target=examples[\"result\"], padding=\"max_length\", truncation=True)\n",
    "\n",
    "# Tokenize datasets\n",
    "#tokenized_datasets = ds.map(tokenize_function, batched=True)\n",
    "tokenized_datasets = ds.map(tokenize_function, batched=True, remove_columns=['prompt', 'result', '__index_level_0__'])"
   ]
  },
  {
   "cell_type": "code",
   "execution_count": null,
   "id": "cc96425f-0757-490f-b376-8151cb712486",
   "metadata": {},
   "outputs": [],
   "source": [
    "# Split the tokenized dataset (e.g., 80% train, 20% validation)\n",
    "splits = tokenized_datasets.train_test_split(test_size=0.2)\n",
    "\n",
    "# Check the split datasets\n",
    "train_dataset = splits[\"train\"]\n",
    "valid_dataset = splits[\"test\"]\n",
    " \n"
   ]
  },
  {
   "cell_type": "code",
   "execution_count": null,
   "id": "d926e2b2-be30-43c8-ac56-f1156858eea9",
   "metadata": {},
   "outputs": [],
   "source": [
    "data_collator = DataCollatorForSeq2Seq(tokenizer, model=model)"
   ]
  },
  {
   "cell_type": "code",
   "execution_count": null,
   "id": "bb74d9a3-db02-4ede-8d45-c2cd9a064ca4",
   "metadata": {},
   "outputs": [],
   "source": [
    "# Set training arguments\n",
    "training_args = Seq2SeqTrainingArguments(\n",
    "    output_dir=\"./results\",\n",
    "    evaluation_strategy=\"epoch\",\n",
    "    learning_rate=5e-5,\n",
    "    per_device_train_batch_size=8,\n",
    "    per_device_eval_batch_size=8,\n",
    "    weight_decay=0.01,\n",
    "    save_total_limit=3,\n",
    "    num_train_epochs=3,\n",
    "    predict_with_generate=True,\n",
    "    fp16=torch.cuda.is_available(),  # Enable mixed precision training on ROCm-enabled AMD GPUs\n",
    "    save_strategy=\"epoch\"\n",
    ")\n",
    "\n",
    "# Initialize Trainer\n",
    "trainer = Seq2SeqTrainer(\n",
    "    model=model,\n",
    "    args=training_args,\n",
    "    train_dataset=train_dataset,\n",
    "    eval_dataset=valid_dataset,\n",
    "    tokenizer=tokenizer,\n",
    "    data_collator=data_collator\n",
    ")\n",
    "\n",
    "# Train the model\n",
    "trainer.train()"
   ]
  },
  {
   "cell_type": "code",
   "execution_count": null,
   "id": "6e6039e0-1094-4a6a-99e0-e7c3b020bfc1",
   "metadata": {},
   "outputs": [],
   "source": [
    "# Save the model\n",
    "login('HUGGINGFACE_TOKEN')\n",
    "trainer.push_to_hub(\"UWV/ul2-small-dutch-simplification-okt-2024\")"
   ]
  }
 ],
 "metadata": {
  "kernelspec": {
   "display_name": "Python 3",
   "language": "python",
   "name": "python3"
  },
  "language_info": {
   "codemirror_mode": {
    "name": "ipython",
    "version": 3
   },
   "file_extension": ".py",
   "mimetype": "text/x-python",
   "name": "python",
   "nbconvert_exporter": "python",
   "pygments_lexer": "ipython3",
   "version": "3.12.7"
  }
 },
 "nbformat": 4,
 "nbformat_minor": 5
}
