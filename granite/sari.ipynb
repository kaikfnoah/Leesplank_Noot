{
 "cells": [
  {
   "cell_type": "code",
   "execution_count": 3,
   "metadata": {},
   "outputs": [],
   "source": [
    "# !pip install sacrebleu sacremoses\n",
    "# !pip install evaluate"
   ]
  },
  {
   "cell_type": "code",
   "execution_count": null,
   "metadata": {},
   "outputs": [],
   "source": [
    "# DATASET\n",
    "from datasets import load_dataset, Dataset\n",
    "\n",
    "## Load the dataset\n",
    "ds = load_dataset(\"UWV/Leesplank_NL_wikipedia_simplifications_preprocessed\", split=\"train\", streaming=True)\n",
    "ds = ds.shuffle(seed=42)\n",
    "\n",
    "small_ds = ds.take(5)"
   ]
  },
  {
   "cell_type": "code",
   "execution_count": 16,
   "metadata": {},
   "outputs": [],
   "source": [
    "small_ds = ds.take(5)"
   ]
  },
  {
   "cell_type": "code",
   "execution_count": 17,
   "metadata": {},
   "outputs": [
    {
     "name": "stdout",
     "output_type": "stream",
     "text": [
      "{'instruction': 'Vereenvoudig: ', 'prompt': 'Montes Abalde leerde al op 10-jarige leeftijd in de muziekschool van de \\\\\"Banda de Música Agrupación Musical Atlántida de Matamá\\\\\" de trombone te bespelen. Vervolgens studeerde hij trombone en compositie aan het \\\\\"Conservatorio de Música de Vigo\\\\\". Hij behaalde zijn diploma\\'s voor trombone in oktober 2005 en voor compositie in maart 2007. Later volgde hij ook de muziekopleiding aan de universiteit van Vigo. Naast zijn \\\\\"Banda de Música Agrupación Musical Atlántida de Matamá\\\\\" is hij ook lid in het \\\\\"Orquestra Clásica de Vigo\\\\\".', 'result': 'Toen Montes Abalde tien jaar oud was, begon hij trombone te spelen bij de muziekschool van de Banda de Música Agrupación Musical Atlántida de Matamá. Hij ging verder met zijn muziekstudie aan het Conservatorio de Música de Vigo, waar hij leerde hoe hij trombone moest spelen en hoe hij muziek kon componeren. In oktober 2005 kreeg hij zijn diploma voor trombone en in maart 2007 voor compositie. Daarna ging hij naar de universiteit van Vigo voor meer muzieklessen. Montes Abalde speelt niet alleen bij de Banda de Música Agrupación Musical Atlántida de Matamá, maar ook bij het Orquestra Clásica de Vigo.', '__index_level_0__': 2652073}\n",
      "{'instruction': 'Vereenvoudig: ', 'prompt': 'Dr. Ivo H. Daalder (Den Haag, 2 maart 1960) is een Nederlands-Amerikaans politicoloog, diplomaat en buitenlandadviseur. Hij is sinds juli 2013 voorzitter van de \\\\\"Chicago Council on Global Affairs\\\\\". Daarvóór was hij ambassadeur van de Verenigde Staten bij de NAVO op voordracht van president Obama. Ook maakte hij deel uit van de staf van president Bill Clinton.', 'result': 'Ivo Daalder is geboren in Den Haag op 2 maart 1960. Hij is een expert in politiek en heeft gewerkt als diplomaat. Hij geeft advies over zaken die met andere landen te maken hebben. Sinds juli 2013 is hij de baas van een belangrijke groep in Chicago die over wereldzaken praat. Voordat hij deze baan kreeg, werkte hij voor de Verenigde Staten bij een belangrijke organisatie, de NAVO. President Obama heeft hem daarvoor gekozen. Ook heeft hij gewerkt voor een andere president, Bill Clinton.', '__index_level_0__': 2100190}\n",
      "{'instruction': 'Vereenvoudig: ', 'prompt': 'Vosch van Avesaet is een geslacht dat oorspronkelijk uit Wijk bij Duurstede komt, waarvan een lid in 1825 werd verheven in de Nederlandse adel en dat met hem in 1826 uitstierf.', 'result': 'De familie Vosch van Avesaet kwam oorspronkelijk uit een plaats genaamd Wijk bij Duurstede. In 1825 kreeg een familielid een bijzondere eer: hij werd een adellijk persoon van Nederland. Dat betekent dat hij en zijn familie toen tot de belangrijke en hooggeplaatste groep mensen gingen behoren. Maar dit duurde niet lang, want in 1826 was er niemand meer over van deze familie; ze waren allemaal overleden.', '__index_level_0__': 253089}\n",
      "{'instruction': 'Vereenvoudig: ', 'prompt': 'In 1994 trouwde Dolores O\\'Riordan met Don Burton, de tour-manager van de band. O\\'Riordans status als frontvrouw van de band begon spanningen te veroorzaken binnen de groep terwijl \\\\\"No Need To Argue\\\\\", hun tweede album, werd geproduceerd. Op dit album staat ook de hitsingle Zombie, een protest tegen het geweld tussen de katholieken en protestanten in Noord-Ierland in de jaren 90. Het album bracht de band een immense populariteit in heel Europa en de VS.', 'result': 'In 1994 ging Dolores O\\'Riordan, de zangeres van een band, trouwen met Don Burton. Hij was de tour-manager van de band. Dolores was heel belangrijk voor de band en dat zorgde soms voor problemen met de andere leden. Ze waren bezig met hun tweede album, \"No Need To Argue\". Op dat album staat het liedje \"Zombie\". Dit liedje gaat over het vechten tussen twee groepen mensen in Noord-Ierland, de katholieken en de protestanten. Dat was een groot probleem in de jaren 90. Door dit album werd de band heel beroemd in Europa en Amerika.', '__index_level_0__': 1120554}\n",
      "{'instruction': 'Vereenvoudig: ', 'prompt': 'De verschillende manieren van rennen zijn ingedeeld in niveaus, te vergelijken met de klasses waarin bijvoorbeeld dressuurpaarden tegen elkaar uitkomen. In de landen buiten Amerika worden de rennen waarin de internationaal beste paarden uitkomen, Groep-rennen genoemd. Zo zijn alle klassieke en beroemde rennen ingedeeld in Group I. Hierin komt het neusje van de zalm op de renbaan in actie. Het niveau daaronder wordt Group II genoemd en als laatste kennen we Group III.', 'result': 'Er zijn verschillende soorten hardloopwedstrijden voor paarden. Deze wedstrijden zijn net als schoolklassen ingedeeld in niveaus. De beste paarden van de wereld doen mee aan de Groep-rennen. De allerbeste wedstrijden heten Group I. Hier zie je de top paarden racen. Net iets minder belangrijke races zijn Group II en de races daarna heten Group III.', '__index_level_0__': 1782179}\n"
     ]
    }
   ],
   "source": [
    "for idx in small_ds:\n",
    "    print(idx)"
   ]
  },
  {
   "cell_type": "code",
   "execution_count": 2,
   "metadata": {},
   "outputs": [],
   "source": [
    "# SARI\n",
    "from evaluate import load\n",
    "sari = load(\"sari\")"
   ]
  },
  {
   "cell_type": "code",
   "execution_count": 7,
   "metadata": {},
   "outputs": [
    {
     "data": {
      "application/vnd.jupyter.widget-view+json": {
       "model_id": "6353918b03de4cb0bf89f9fef4cb114e",
       "version_major": 2,
       "version_minor": 0
      },
      "text/plain": [
       "Loading checkpoint shards:   0%|          | 0/2 [00:00<?, ?it/s]"
      ]
     },
     "metadata": {},
     "output_type": "display_data"
    },
    {
     "name": "stderr",
     "output_type": "stream",
     "text": [
      "Some parameters are on the meta device because they were offloaded to the disk and cpu.\n"
     ]
    }
   ],
   "source": [
    "# INFERENCE\n",
    "from transformers import AutoModelForCausalLM, AutoTokenizer\n",
    "\n",
    "device = \"auto\"\n",
    "model_path = \"ibm-granite/granite-3.0-2b-instruct\"\n",
    "tokenizer = AutoTokenizer.from_pretrained(model_path)\n",
    "\n",
    "# drop device_map if running on CPU\n",
    "model = AutoModelForCausalLM.from_pretrained(model_path, device_map=device)"
   ]
  },
  {
   "cell_type": "code",
   "execution_count": null,
   "metadata": {},
   "outputs": [
    {
     "name": "stdout",
     "output_type": "stream",
     "text": [
      "instruction                                             Vereenvoudig: \n",
      "prompt                De originele versie bevatte de volgende spellen:\n",
      "result               In de originele versie waren deze spellen inbe...\n",
      "__index_level_0__                                              1905410\n",
      "Name: 10000, dtype: object\n"
     ]
    }
   ],
   "source": [
    "# INFERENCE AND CALCULATE SARI SCORE\n",
    "import re\n",
    "\n",
    "row = df.iloc[10000]\n",
    "\n",
    "print(row)\n",
    "\n",
    "# Input and references\n",
    "instruction = row['instruction']\n",
    "input = row['prompt']\n",
    "references = row['result']\n",
    "\n",
    "# Run inference\n",
    "chat = [\n",
    "    { \"role\": \"user\", \"content\": f\"{instruction} {input}\" },\n",
    "]\n",
    "chat = tokenizer.apply_chat_template(chat, tokenize=False, add_generation_prompt=True)\n",
    "\n",
    "# tokenize the text\n",
    "input_tokens = tokenizer(chat, return_tensors=\"pt\").to('cpu')\n",
    "\n",
    "# generate output tokens\n",
    "output = model.generate(**input_tokens, \n",
    "                        max_new_tokens=100)\n",
    "\n",
    "# Decode output\n",
    "output = tokenizer.batch_decode(output)"
   ]
  },
  {
   "cell_type": "code",
   "execution_count": 22,
   "metadata": {},
   "outputs": [
    {
     "data": {
      "text/plain": [
       "['<|start_of_role|>user<|end_of_role|>Vereenvoudig:  De originele versie bevatte de volgende spellen:<|end_of_text|>\\n<|start_of_role|>assistant<|end_of_role|>1. Chess\\n2. Checkers\\n3. Backgammon\\n4. Sudoku\\n5. Tetris\\n6. Chess\\n7. Checkers\\n8. Backgammon\\n9. Sudoku\\n10. Tetris\\n\\nDe originele versie bevatte de volgende spellen: Chess, Checkers, Backgammon, Sudoku, Tetris.<|end_of_text|>']"
      ]
     },
     "execution_count": 22,
     "metadata": {},
     "output_type": "execute_result"
    }
   ],
   "source": [
    "output"
   ]
  },
  {
   "cell_type": "code",
   "execution_count": 18,
   "metadata": {},
   "outputs": [
    {
     "data": {
      "text/plain": [
       "{'sari': 45.46374105197635}"
      ]
     },
     "execution_count": 18,
     "metadata": {},
     "output_type": "execute_result"
    }
   ],
   "source": [
    "sari_score = sari.compute(sources=[input], predictions=output, references=[[references]])\n",
    "sari_score"
   ]
  },
  {
   "cell_type": "code",
   "execution_count": null,
   "metadata": {},
   "outputs": [],
   "source": []
  }
 ],
 "metadata": {
  "kernelspec": {
   "display_name": "Python 3",
   "language": "python",
   "name": "python3"
  },
  "language_info": {
   "codemirror_mode": {
    "name": "ipython",
    "version": 3
   },
   "file_extension": ".py",
   "mimetype": "text/x-python",
   "name": "python",
   "nbconvert_exporter": "python",
   "pygments_lexer": "ipython3",
   "version": "3.12.7"
  }
 },
 "nbformat": 4,
 "nbformat_minor": 2
}
